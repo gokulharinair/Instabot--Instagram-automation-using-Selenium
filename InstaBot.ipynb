{
 "cells": [
  {
   "cell_type": "code",
   "execution_count": 1,
   "metadata": {},
   "outputs": [],
   "source": [
    "from selenium import webdriver\n",
    "import time\n",
    "from selenium.common.exceptions import NoSuchElementException\n",
    "\n",
    "class Instabot:\n",
    "    \n",
    "    def __init__(self, username, password):\n",
    "        self.driver = webdriver.Chrome(executable_path =r'C:\\Users\\hp\\Downloads\\chromedriver')\n",
    "        self.driver.maximize_window()\n",
    "        self.driver.get('https://www.instagram.com/')\n",
    "        self.wait = WebDriverWait(self.driver, 10)\n",
    "        time.sleep(2)\n",
    "        self.driver.find_element_by_name('username').send_keys(username)\n",
    "        self.driver.find_element_by_name('password').send_keys(password)\n",
    "        self.driver.find_element_by_xpath('//button[contains (@type, \"submit\")]').click()\n",
    "        time.sleep(4)\n",
    "        self.driver.find_element_by_xpath('//button[contains (@class, \"yWX7d\")]').click()\n",
    "        time.sleep(4)\n",
    "        self.driver.find_element_by_xpath('/html/body/div[4]/div/div/div/div[3]/button[2]').click()\n",
    "    \n",
    "                \n",
    "    def searchword(self, anything):\n",
    "        self.listofinstahandles = []\n",
    "        self.anything = anything    \n",
    "        self.driver.find_element_by_xpath('//input[contains (@placeholder, \"Search\")]').send_keys(anything)\n",
    "        time.sleep(5)\n",
    "        self.user_names = self.driver.find_elements_by_xpath('//div[contains (@class , \"uyeeR\")]/span')\n",
    "        for i in self.user_names:\n",
    "            self.listofinstahandles.append(i.text)\n",
    "        time.sleep(2)\n",
    "        self.driver.find_element_by_xpath('//div[contains(@class, \"coreSpriteSearchClear\")]').click()\n",
    "        print('All Instagram handles using the search key ', str(anything), 'are shown below: ')\n",
    "        for i in self.listofinstahandles:\n",
    "            print(i)\n",
    "    \n",
    "    def followed_or_not(self):\n",
    "        try:\n",
    "            self.driver.find_element_by_css_selector('#react-root > section > main > div > header > section > div.nZSzR > div.BY3EC > div > span > span.vBF20._1OSdk > button').click()\n",
    "            time.sleep(3)\n",
    "            print('User followed now:', str(self.profile_name))\n",
    "        except NoSuchElementException:\n",
    "            print('User already followed')\n",
    "    \n",
    "    def unfollowed_or_not(self):\n",
    "        try:\n",
    "            self.driver.find_element_by_css_selector('#react-root > section > main > div > header > section > div.nZSzR > div:nth-child(3) > div > span > span.vBF20._1OSdk > button').click()\n",
    "            time.sleep(2)\n",
    "            self.driver.find_element_by_css_selector('body > div.RnEpo.Yx5HN > div > div > div > div.mt3GC > button.aOOlW.-Cab_').click()\n",
    "            time.sleep(2)\n",
    "            print('User unfollowed now:', str(self.profile_name))\n",
    "        except NoSuchElementException:\n",
    "            print('User currently unfollowed')\n",
    "            \n",
    "    def openingprofile(self, profile_name):\n",
    "        self.profile_name = profile_name\n",
    "        self.driver.find_element_by_xpath('//input[contains (@placeholder, \"Search\")]').send_keys(profile_name)\n",
    "        time.sleep(5)\n",
    "        self.driver.find_element_by_xpath('//*[@id=\"react-root\"]/section/nav/div[2]/div/div/div[2]/div[3]/div[2]/div/a[1]/div/div[2]').click()\n",
    "        time.sleep(4)\n",
    "        print('Profile open : ', str(self.profile_name))\n",
    "\n",
    "    def openingprofile_andfollow(self, profile_name):\n",
    "        self.profile_name = profile_name    \n",
    "        self.driver.find_element_by_xpath('//input[contains (@placeholder, \"Search\")]').send_keys(profile_name)\n",
    "        time.sleep(5)\n",
    "        self.driver.find_element_by_xpath('//*[@id=\"react-root\"]/section/nav/div[2]/div/div/div[2]/div[3]/div[2]/div/a[1]/div/div[2]').click()\n",
    "        time.sleep(4)\n",
    "        self.followed_or_not()\n",
    "        time.sleep(2)\n",
    "        self.driver.back()\n",
    "        time.sleep(1)\n",
    "        print()\n",
    "        print('Back to Home Page')\n",
    "    \n",
    "    def openingprofile_andunfollow(self, profile_name):\n",
    "        self.profile_name = profile_name    \n",
    "        self.driver.find_element_by_xpath('//input[contains (@placeholder, \"Search\")]').send_keys(profile_name)\n",
    "        time.sleep(5)\n",
    "        self.driver.find_element_by_xpath('//*[@id=\"react-root\"]/section/nav/div[2]/div/div/div[2]/div[3]/div[2]/div/a[1]/div/div[2]/div/span').click()\n",
    "        time.sleep(3)\n",
    "        self.unfollowed_or_not()\n",
    "        time.sleep(2)\n",
    "        self.driver.back()\n",
    "        time.sleep(1)\n",
    "        print()\n",
    "        print('Back to Home page')\n",
    "        \n",
    "    def likeposts(self, number_of_posts):\n",
    "        self.number_of_posts = number_of_posts\n",
    "        self.driver.find_element_by_class_name(\"_9AhH0\").click()\n",
    "        time.sleep(2)\n",
    "        i=1\n",
    "        while i<=number_of_posts:\n",
    "            like_button = self.driver.find_element_by_css_selector(\"span.fr66n > button\")\n",
    "            time.sleep(2)\n",
    "            attribute =  self.driver.find_element_by_css_selector(\"span.fr66n > button > div > span > svg\").get_attribute(\"aria-label\") \n",
    "            time.sleep(1)\n",
    "            if attribute == \"Like\":\n",
    "                like_button.click()\n",
    "                time.sleep(1)\n",
    "                print('Post ',i,' liked now')\n",
    "            else:\n",
    "                print('Post ',i,' already liked')\n",
    "            self.driver.find_element_by_xpath('//a[contains(@class, \"coreSpriteRightPaginationArrow\")]').click()\n",
    "            i+=1\n",
    "            time.sleep(2)\n",
    "        self.driver.find_element_by_xpath('/html/body/div[4]/div[3]/button').click()\n",
    "    \n",
    "    def dislikeposts(self, number_of_posts):\n",
    "        self.number_of_posts = number_of_posts\n",
    "        self.driver.find_element_by_class_name(\"_9AhH0\").click()\n",
    "        time.sleep(2)\n",
    "        i=1\n",
    "        while i<=number_of_posts:\n",
    "            like_button = self.driver.find_element_by_css_selector(\"span.fr66n > button\")\n",
    "            time.sleep(2)\n",
    "            attribute =  self.driver.find_element_by_css_selector(\"span.fr66n > button > div > span > svg\").get_attribute(\"aria-label\") \n",
    "            time.sleep(2)                                          \n",
    "            if attribute == \"Unlike\":\n",
    "                like_button.click()\n",
    "                time.sleep(1)\n",
    "                print('Post ',i,' unliked now')\n",
    "            else:\n",
    "                print('Post ',i,' unliked since before')\n",
    "            self.driver.find_element_by_xpath('//a[contains(@class, \"coreSpriteRightPaginationArrow\")]').click()\n",
    "            i+=1\n",
    "            time.sleep(2)\n",
    "        self.driver.find_element_by_xpath('/html/body/div[4]/div[3]/button').click()\n",
    "                \n",
    "    def backtohomepage(self):\n",
    "        self.driver.find_element_by_css_selector('#react-root > section > nav > div._8MQSO.Cx7Bp > div > div > div.oJZym > a').click()\n",
    "        print('Back to home page')\n",
    "        \n",
    "    def recentfollowerusernames(self):\n",
    "        self.driver.find_element_by_css_selector('#react-root > section > main > div > header > section > ul > li:nth-child(2) > a').click()\n",
    "        time.sleep(4)\n",
    "        followers_body = self.driver.find_element_by_class_name('isgrP')\n",
    "        scroll=0\n",
    "        followers_names = []\n",
    "        while scroll < 12: \n",
    "            self.followers_list = self.driver.find_elements_by_xpath('//div[@class=\"PZuss\"]/li//span[@class=\"Jv7Aj  MqpiF  \"]')\n",
    "            time.sleep(4)\n",
    "            for i in self.followers_list:\n",
    "                followers_names.append(i.text)\n",
    "            self.driver.execute_script('arguments[0].scrollTop = arguments[0].scrollTop + arguments[0].offsetHeight;', followers_body)\n",
    "            time.sleep(2)\n",
    "            scroll+=1\n",
    "        for i in set(followers_names):\n",
    "            print(i)\n",
    "        time.sleep(2)\n",
    "        self.driver.find_element_by_css_selector('body > div.RnEpo.Yx5HN > div > div > div:nth-child(1) > div > div:nth-child(3) > button').click()\n",
    "\n",
    "    def story_status(self):\n",
    "        height= self.driver.find_element_by_css_selector('#react-root > section > main > div > header > div > div > canvas').get_attribute('height')\n",
    "        time.sleep(2)\n",
    "        button_status = self.driver.find_element_by_css_selector('#react-root > section > main > div > header > div > div').get_attribute('aria-disabled') \n",
    "        time.sleep(2)\n",
    "        if button_status == \"false\":\n",
    "            if int(height) == 210:\n",
    "                print('Story not clicked')\n",
    "                time.sleep(2)\n",
    "                self.driver.find_element_by_css_selector('#react-root > section > main > div > header > div > div').click()\n",
    "                print('Story opened for the 1st time now')\n",
    "            else:\n",
    "                print('Story already clicked')\n",
    "        else:\n",
    "            print('Story does not exist')\n",
    "    def public_or_not(self): #check only those accounts that you don't follow\n",
    "        try:\n",
    "            print(self.driver.find_element_by_css_selector('#react-root > section > main > div > div > article > div._4Kbb_._54f4m > div > h2').text)\n",
    "        except NoSuchElementException:\n",
    "            print('Public Account')\n",
    "    def followed_account_public_or_not(self): #check those accounts that you follow here\n",
    "        try:\n",
    "            self.driver.find_element_by_css_selector('#react-root > section > main > div > header > section > div.nZSzR > div:nth-child(3) > div > span > span.vBF20._1OSdk > button')\n",
    "            print('Followed account is private')\n",
    "        except NoSuchElementException:\n",
    "            print('Followed account is public')\n",
    "        \n",
    "            \n",
    "\n",
    "        \n",
    "        \n",
    "        \n",
    "        \n"
   ]
  },
  {
   "cell_type": "code",
   "execution_count": 2,
   "metadata": {
    "scrolled": false
   },
   "outputs": [],
   "source": [
    "my_bot = Instabot('username', 'password')"
   ]
  },
  {
   "cell_type": "code",
   "execution_count": 3,
   "metadata": {
    "scrolled": false
   },
   "outputs": [
    {
     "name": "stdout",
     "output_type": "stream",
     "text": [
      "User followed now: So Delhi\n",
      "\n",
      "Back to Home Page\n"
     ]
    }
   ],
   "source": [
    "my_bot.openingprofile_andfollow('So Delhi')"
   ]
  },
  {
   "cell_type": "code",
   "execution_count": 4,
   "metadata": {},
   "outputs": [
    {
     "name": "stdout",
     "output_type": "stream",
     "text": [
      "User already followed\n",
      "\n",
      "Back to Home Page\n"
     ]
    }
   ],
   "source": [
    "my_bot.openingprofile_andfollow('So Delhi')"
   ]
  },
  {
   "cell_type": "code",
   "execution_count": 5,
   "metadata": {
    "scrolled": false
   },
   "outputs": [
    {
     "name": "stdout",
     "output_type": "stream",
     "text": [
      "User unfollowed now: So Delhi\n",
      "\n",
      "Back to Home page\n"
     ]
    }
   ],
   "source": [
    "my_bot.openingprofile_andunfollow('So Delhi')"
   ]
  },
  {
   "cell_type": "code",
   "execution_count": 6,
   "metadata": {},
   "outputs": [
    {
     "name": "stdout",
     "output_type": "stream",
     "text": [
      "User currently unfollowed\n",
      "\n",
      "Back to Home page\n"
     ]
    }
   ],
   "source": [
    "my_bot.openingprofile_andunfollow('So Delhi')"
   ]
  },
  {
   "cell_type": "code",
   "execution_count": 7,
   "metadata": {
    "scrolled": true
   },
   "outputs": [
    {
     "name": "stdout",
     "output_type": "stream",
     "text": [
      "Profile open :  natgeo\n"
     ]
    }
   ],
   "source": [
    "my_bot.openingprofile('natgeo') "
   ]
  },
  {
   "cell_type": "code",
   "execution_count": 9,
   "metadata": {
    "scrolled": true
   },
   "outputs": [
    {
     "name": "stdout",
     "output_type": "stream",
     "text": [
      "Post  1  liked now\n",
      "Post  2  liked now\n",
      "Post  3  liked now\n",
      "Post  4  liked now\n",
      "Post  5  liked now\n",
      "Post  6  liked now\n"
     ]
    }
   ],
   "source": [
    "my_bot.likeposts(6)"
   ]
  },
  {
   "cell_type": "code",
   "execution_count": 10,
   "metadata": {
    "scrolled": false
   },
   "outputs": [
    {
     "name": "stdout",
     "output_type": "stream",
     "text": [
      "Post  1  already liked\n",
      "Post  2  already liked\n",
      "Post  3  already liked\n",
      "Post  4  already liked\n",
      "Post  5  already liked\n",
      "Post  6  already liked\n",
      "Post  7  liked now\n",
      "Post  8  already liked\n"
     ]
    }
   ],
   "source": [
    "my_bot.likeposts(8)"
   ]
  },
  {
   "cell_type": "code",
   "execution_count": 11,
   "metadata": {
    "scrolled": true
   },
   "outputs": [
    {
     "name": "stdout",
     "output_type": "stream",
     "text": [
      "Post  1  unliked now\n",
      "Post  2  unliked now\n",
      "Post  3  unliked now\n"
     ]
    }
   ],
   "source": [
    "my_bot.dislikeposts(3)"
   ]
  },
  {
   "cell_type": "code",
   "execution_count": 12,
   "metadata": {},
   "outputs": [
    {
     "name": "stdout",
     "output_type": "stream",
     "text": [
      "Post  1  unliked since before\n",
      "Post  2  unliked since before\n",
      "Post  3  unliked since before\n",
      "Post  4  unliked now\n",
      "Post  5  unliked now\n",
      "Post  6  unliked now\n"
     ]
    }
   ],
   "source": [
    "my_bot.dislikeposts(6)"
   ]
  },
  {
   "cell_type": "code",
   "execution_count": 13,
   "metadata": {},
   "outputs": [
    {
     "name": "stdout",
     "output_type": "stream",
     "text": [
      "Back to home page\n"
     ]
    }
   ],
   "source": [
    "my_bot.backtohomepage()"
   ]
  },
  {
   "cell_type": "code",
   "execution_count": 14,
   "metadata": {
    "scrolled": false
   },
   "outputs": [
    {
     "name": "stdout",
     "output_type": "stream",
     "text": [
      "Profile open :  barcelona\n"
     ]
    }
   ],
   "source": [
    "my_bot.openingprofile('barcelona')"
   ]
  },
  {
   "cell_type": "code",
   "execution_count": 16,
   "metadata": {
    "scrolled": true
   },
   "outputs": [
    {
     "name": "stdout",
     "output_type": "stream",
     "text": [
      "aftabkhan4422\n",
      "ragui_oussama\n",
      "dya_dyana24\n",
      "ahmadezozo\n",
      "fabianpuntos\n",
      "iomavxa_\n",
      "zawzinhlaing\n",
      "faizancuse4\n",
      "_mhksi\n",
      "abcdefedcba.1\n",
      "bijeh_godswill\n",
      "praka_sh599\n",
      "ilyasu27\n",
      "i_s_t_i_u_q_14_dz\n",
      "swapniljadhav1718\n",
      "niklas.liebgott09\n",
      "adityasai75\n",
      "tazsow\n",
      "septiadwicahh\n",
      "ix_ms239\n",
      "official_saten_bliss\n",
      "prosto_vasilek\n",
      "cdrt_013\n",
      "xprimetecnologia\n",
      "__i.m__uselezz\n",
      "iammeryus\n",
      "sdyqqrb\n",
      "ousbil43185439\n",
      "desvitanaswaa_\n",
      "milayanti2491\n",
      "mamalitayagmou\n",
      "stevemugerowimana\n",
      "zahra_syifaaaa\n",
      "neowmag\n",
      "_honare_khalagh\n",
      "its_yohan185\n",
      "allan.pecem\n",
      "gunawan_wibis17\n",
      "erique.jr\n",
      "diallomohamed239\n",
      "favij.my.nutella_\n",
      "hafizsalim.apis\n",
      "brownbarbie8178\n",
      "kaushal.du\n",
      "fernando_menjivar10\n",
      "yestem_kendrool\n",
      "tadtvshow\n",
      "ami987625\n",
      "98ik_\n",
      "essabagawan.4646\n",
      "kietnir_an\n",
      "abda.llah9730\n",
      "victor_lindelolf_6\n",
      "snegiri_1217\n",
      "tknk4447\n",
      "llssryni_19\n",
      "q50._\n",
      "rizio_56\n",
      "akhavan_.2024\n",
      "robinehsan\n",
      "hu._m3\n",
      "___aryapc____\n",
      "jaywhytt\n",
      "richard_chris190\n",
      "mory.diarra.92351\n",
      "mustafakutlu61\n",
      "_mahmoud_ahmed_a\n",
      "ladidelanoladi\n",
      "sondey_29\n",
      "whydi_91\n",
      "laserpersian91\n",
      "johnlesley007\n"
     ]
    }
   ],
   "source": [
    "my_bot.recentfollowerusernames()"
   ]
  },
  {
   "cell_type": "code",
   "execution_count": 17,
   "metadata": {
    "scrolled": true
   },
   "outputs": [
    {
     "name": "stdout",
     "output_type": "stream",
     "text": [
      "Profile open :  leomessi\n"
     ]
    }
   ],
   "source": [
    "my_bot.openingprofile('leomessi')"
   ]
  },
  {
   "cell_type": "code",
   "execution_count": 18,
   "metadata": {},
   "outputs": [
    {
     "name": "stdout",
     "output_type": "stream",
     "text": [
      "Story does not exist\n"
     ]
    }
   ],
   "source": [
    "my_bot.story_status()"
   ]
  },
  {
   "cell_type": "code",
   "execution_count": 19,
   "metadata": {
    "scrolled": true
   },
   "outputs": [
    {
     "name": "stdout",
     "output_type": "stream",
     "text": [
      "Followed account is public\n"
     ]
    }
   ],
   "source": [
    "my_bot.followed_account_public_or_not()"
   ]
  },
  {
   "cell_type": "code",
   "execution_count": 20,
   "metadata": {
    "scrolled": false
   },
   "outputs": [
    {
     "name": "stdout",
     "output_type": "stream",
     "text": [
      "Profile open :  theabinjaison\n"
     ]
    }
   ],
   "source": [
    "my_bot.openingprofile('theabinjaison')"
   ]
  },
  {
   "cell_type": "code",
   "execution_count": 21,
   "metadata": {},
   "outputs": [
    {
     "name": "stdout",
     "output_type": "stream",
     "text": [
      "Story already clicked\n"
     ]
    }
   ],
   "source": [
    "my_bot.story_status()"
   ]
  },
  {
   "cell_type": "code",
   "execution_count": 22,
   "metadata": {
    "scrolled": false
   },
   "outputs": [
    {
     "name": "stdout",
     "output_type": "stream",
     "text": [
      "Followed account is private\n"
     ]
    }
   ],
   "source": [
    "my_bot.followed_account_public_or_not()"
   ]
  },
  {
   "cell_type": "code",
   "execution_count": 23,
   "metadata": {
    "scrolled": true
   },
   "outputs": [
    {
     "name": "stdout",
     "output_type": "stream",
     "text": [
      "Profile open :  relmadrid\n"
     ]
    }
   ],
   "source": [
    "my_bot.openingprofile('relmadrid')"
   ]
  },
  {
   "cell_type": "code",
   "execution_count": 25,
   "metadata": {
    "scrolled": true
   },
   "outputs": [
    {
     "name": "stdout",
     "output_type": "stream",
     "text": [
      "Public Account\n"
     ]
    }
   ],
   "source": [
    "my_bot.public_or_not()"
   ]
  },
  {
   "cell_type": "code",
   "execution_count": 26,
   "metadata": {},
   "outputs": [
    {
     "name": "stdout",
     "output_type": "stream",
     "text": [
      "Story not clicked\n",
      "Story opened for the 1st time now\n"
     ]
    }
   ],
   "source": [
    "my_bot.story_status()"
   ]
  },
  {
   "cell_type": "code",
   "execution_count": null,
   "metadata": {},
   "outputs": [],
   "source": []
  }
 ],
 "metadata": {
  "kernelspec": {
   "display_name": "Python 3",
   "language": "python",
   "name": "python3"
  },
  "language_info": {
   "codemirror_mode": {
    "name": "ipython",
    "version": 3
   },
   "file_extension": ".py",
   "mimetype": "text/x-python",
   "name": "python",
   "nbconvert_exporter": "python",
   "pygments_lexer": "ipython3",
   "version": "3.7.4"
  }
 },
 "nbformat": 4,
 "nbformat_minor": 4
}
